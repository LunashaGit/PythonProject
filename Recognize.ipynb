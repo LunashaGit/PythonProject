{
 "cells": [
  {
   "cell_type": "code",
   "execution_count": 1,
   "id": "fe33422a-765d-4579-bc75-ce6e9144032d",
   "metadata": {},
   "outputs": [],
   "source": [
    "# from svglib.svglib import svg2rlg\n",
    "# from reportlab.graphics import renderPM\n",
    "# from cairosvg import svg2png\n",
    "from datetime import datetime\n",
    "from bs4 import BeautifulSoup as BS\n",
    "from fastapi import FastAPI as FP\n",
    "from fastapi import HTTPException, Depends, Security\n",
    "from fastapi.security.api_key import APIKeyQuery, APIKeyCookie, APIKeyHeader, APIKey\n",
    "from starlette.status import HTTP_403_FORBIDDEN\n",
    "from starlette.responses import RedirectResponse, JSONResponse\n",
    "from dotenv import load_dotenv, find_dotenv\n",
    "from os.path import join, dirname\n",
    "from pydantic import BaseModel\n",
    "import uvicorn\n",
    "import boto3\n",
    "import random\n",
    "import requests\n",
    "import string\n",
    "import os"
   ]
  },
  {
   "cell_type": "code",
   "execution_count": 2,
   "id": "75abd5be-b2e8-478f-b21e-f827501f271e",
   "metadata": {},
   "outputs": [],
   "source": [
    "now = datetime.now()"
   ]
  },
  {
   "cell_type": "code",
   "execution_count": 3,
   "id": "fb7063a4-ce1a-45b2-8bc4-edcb82f32418",
   "metadata": {},
   "outputs": [],
   "source": [
    "app = FP()"
   ]
  },
  {
   "cell_type": "code",
   "execution_count": 4,
   "id": "b7f0419d-3ae8-448c-89e2-265f15a22546",
   "metadata": {},
   "outputs": [
    {
     "data": {
      "text/plain": [
       "True"
      ]
     },
     "execution_count": 4,
     "metadata": {},
     "output_type": "execute_result"
    }
   ],
   "source": [
    "load_dotenv(find_dotenv())"
   ]
  },
  {
   "cell_type": "code",
   "execution_count": 5,
   "id": "99467479-5b28-461e-8bd2-d4aad2bc2aee",
   "metadata": {},
   "outputs": [],
   "source": [
    "API_KEY = os.environ.get(\"token\")\n",
    "API_KEY_NAME = \"access_token\"\n",
    "api_key_query = APIKeyQuery(name=API_KEY_NAME, auto_error=False)\n",
    "api_key_header = APIKeyHeader(name=API_KEY_NAME, auto_error=False)"
   ]
  },
  {
   "cell_type": "code",
   "execution_count": 6,
   "id": "467a00d8-45c7-4948-9480-f3553fc48e37",
   "metadata": {},
   "outputs": [],
   "source": [
    "async def get_api_key(\n",
    "    api_key_query: str = Security(api_key_query),\n",
    "    api_key_header: str = Security(api_key_header),\n",
    "):\n",
    "    if api_key_query == API_KEY:\n",
    "        return api_key_query\n",
    "    elif api_key_header == API_KEY:\n",
    "        return api_key_header\n",
    "    else:\n",
    "        raise HTTPException(\n",
    "            status_code=HTTP_403_FORBIDDEN, detail=\"Could not validate credentials\"\n",
    "        )"
   ]
  },
  {
   "cell_type": "code",
   "execution_count": 7,
   "id": "93b6c10d-6013-4777-bdf9-3ab9d21eb472",
   "metadata": {
    "tags": []
   },
   "outputs": [],
   "source": [
    "donnees = {\n",
    "    \"img\": [\n",
    "        \"test1\",\n",
    "        \"test2\",\n",
    "        \"test3\"\n",
    "    ]\n",
    "}"
   ]
  },
  {
   "cell_type": "code",
   "execution_count": 86,
   "id": "ff32e76b-5702-4c22-881b-dbd68c6dc70e",
   "metadata": {},
   "outputs": [],
   "source": [
    "def detect_labels_local_file(photo, link):\n",
    "\n",
    "    client=boto3.client('rekognition')\n",
    "   \n",
    "    with open(photo, 'rb') as image:\n",
    "        response = client.detect_labels(Image={'Bytes': image.read()})\n",
    "        \n",
    "    print('Detected labels in ' + photo)\n",
    "    donnees[link] = []\n",
    "    for label in response['Labels']:\n",
    "        print (label['Name'] + ' : ' + str(label['Confidence']))\n",
    "        donnees[link].append(label['Name'] + ' : ' + str(label['Confidence']))\n",
    "        \n",
    "\n",
    "    return len(response['Labels'])"
   ]
  },
  {
   "cell_type": "code",
   "execution_count": 106,
   "id": "e175d47d-cc31-4b16-8351-c35ba905bacb",
   "metadata": {},
   "outputs": [],
   "source": [
    "def analyze(web):\n",
    "    link = web\n",
    "    page = requests.get(\"https://\" + link)\n",
    "    content = BS(page.content, 'html.parser')\n",
    "    img = content.find_all('img', alt=False)\n",
    "    for image in img:\n",
    "        if link in image['src']:\n",
    "            image = image['src']\n",
    "            response = requests.get(image)\n",
    "        else:\n",
    "            image = link + image['src']\n",
    "            response = requests.get(\"https://\" + image)\n",
    "        if image[-3:] == \"png\" or image[-3:] == \"jpg\":\n",
    "            file = open(random.choice(string.ascii_letters) + now.strftime(\"%H%M%S\") + \".jpg\", \"wb\")\n",
    "            file.write(response.content)\n",
    "            photo=file.name\n",
    "            detect_labels_local_file(photo, image)\n",
    "        # elif image[-3:] == \"svg\":\n",
    "        #     SVGcontent = BS(requests.get(image).content, 'html.parser')\n",
    "        #     SVG = SVGcontent\n",
    "        #     with open(random.choice(string.ascii_letters) + now.strftime(\"%H%M%S\") + \".svg\", \"w\") as file:\n",
    "        #         file.write(str(SVG))\n",
    "        #         print(file.name[:len(file.name) - 4])"
   ]
  },
  {
   "cell_type": "code",
   "execution_count": 10,
   "id": "1fd6c7cc-937b-4fc6-9fb3-506dcd8374f1",
   "metadata": {},
   "outputs": [],
   "source": [
    "@app.get(\"/token_test\")\n",
    "async def token_validation(api_key: APIKey = Depends(get_api_key)):\n",
    "    response = \"The bot confirm you had a valid Token\"\n",
    "    return {\"response\": response}"
   ]
  },
  {
   "cell_type": "code",
   "execution_count": 11,
   "id": "28d1fe6e-5b31-430a-aca7-cf816693b414",
   "metadata": {},
   "outputs": [],
   "source": [
    "@app.get(\"/images\")\n",
    "async def get_images(web:str, api_key: APIKey = Depends(get_api_key)):\n",
    "    analyze(web)\n",
    "    return {\"response\": \"Valid\",\n",
    "            \"data\" : donnees,\n",
    "            \"Website\" : web\n",
    "            }"
   ]
  },
  {
   "cell_type": "code",
   "execution_count": null,
   "id": "51377010-31b9-40fd-91d6-08ed3f27a568",
   "metadata": {
    "tags": []
   },
   "outputs": [],
   "source": [
    "if __name__ == \"__main__\":\n",
    "    uvicorn.run(\"Recognize:app\",\n",
    "                host=\"152.228.175.112\"\n",
    "                # ssl-keyfile=os.path.join('.','cert','key.pem')\n",
    "                # ssl-certfile=os.path.join('.','cert','cert.pem')\n",
    "                )"
   ]
  },
  {
   "cell_type": "code",
   "execution_count": null,
   "id": "05c1068f",
   "metadata": {},
   "outputs": [],
   "source": []
  }
 ],
 "metadata": {
  "kernelspec": {
   "display_name": "Python 3 (ipykernel)",
   "language": "python",
   "name": "python3"
  },
  "language_info": {
   "codemirror_mode": {
    "name": "ipython",
    "version": 3
   },
   "file_extension": ".py",
   "mimetype": "text/x-python",
   "name": "python",
   "nbconvert_exporter": "python",
   "pygments_lexer": "ipython3",
   "version": "3.9.12"
  }
 },
 "nbformat": 4,
 "nbformat_minor": 5
}
